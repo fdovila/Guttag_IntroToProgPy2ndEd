{
 "cells": [
  {
   "cell_type": "markdown",
   "metadata": {},
   "source": [
    "# This is an example"
   ]
  },
  {
   "cell_type": "code",
   "execution_count": 1,
   "metadata": {
    "collapsed": false
   },
   "outputs": [
    {
     "name": "stdout",
     "output_type": "stream",
     "text": [
      "Yankees rule!\n",
      "But not in Boston\n",
      "Yankees rule, but not in Boston\n"
     ]
    }
   ],
   "source": [
    "print ('Yankees rule!')\n",
    "print ('But not in Boston')\n",
    "print ('Yankees rule,','but not in Boston')"
   ]
  },
  {
   "cell_type": "code",
   "execution_count": 2,
   "metadata": {
    "collapsed": false
   },
   "outputs": [
    {
     "data": {
      "text/plain": [
       "5"
      ]
     },
     "execution_count": 2,
     "metadata": {},
     "output_type": "execute_result"
    }
   ],
   "source": [
    "3 + 2"
   ]
  },
  {
   "cell_type": "code",
   "execution_count": 3,
   "metadata": {
    "collapsed": false
   },
   "outputs": [
    {
     "data": {
      "text/plain": [
       "5.0"
      ]
     },
     "execution_count": 3,
     "metadata": {},
     "output_type": "execute_result"
    }
   ],
   "source": [
    "3.0 + 2.0"
   ]
  },
  {
   "cell_type": "code",
   "execution_count": 5,
   "metadata": {
    "collapsed": false
   },
   "outputs": [
    {
     "data": {
      "text/plain": [
       "True"
      ]
     },
     "execution_count": 5,
     "metadata": {},
     "output_type": "execute_result"
    }
   ],
   "source": [
    "3 !=2 #not equal"
   ]
  },
  {
   "cell_type": "code",
   "execution_count": 8,
   "metadata": {
    "collapsed": false
   },
   "outputs": [
    {
     "data": {
      "text/plain": [
       "int"
      ]
     },
     "execution_count": 8,
     "metadata": {},
     "output_type": "execute_result"
    }
   ],
   "source": [
    "type(3)"
   ]
  },
  {
   "cell_type": "code",
   "execution_count": 9,
   "metadata": {
    "collapsed": false
   },
   "outputs": [
    {
     "data": {
      "text/plain": [
       "3"
      ]
     },
     "execution_count": 9,
     "metadata": {},
     "output_type": "execute_result"
    }
   ],
   "source": []
  },
  {
   "cell_type": "code",
   "execution_count": 21,
   "metadata": {
    "collapsed": false
   },
   "outputs": [
    {
     "name": "stdout",
     "output_type": "stream",
     "text": [
      "What's the value of x?  3\n",
      "What's the value of y?  5\n",
      "What's the value of z?  8\n",
      "x = 3\n",
      "y = 5\n",
      "z = 8\n",
      "3 is odd\n",
      "5 is odd\n",
      "8 is not odd\n",
      "[1]\n"
     ]
    }
   ],
   "source": [
    "import numpy as np\n",
    "\n",
    "x = input(\"What's the value of x?  \")\n",
    "y = input(\"What's the value of y?  \")\n",
    "z = input(\"What's the value of z?  \")\n",
    "print ('x =', x)\n",
    "print ('y =', y)\n",
    "print ('z =', z)\n",
    "\n",
    "xyz = np.array([x,y,z])\n",
    "size_xyz = len(xyz)\n",
    "\n",
    "odds = np.empty([1, 1], dtype=int)\n",
    "\n",
    "for i in range (0,size_xyz):\n",
    "    if int(xyz[i])%2 == 0:\n",
    "        print (xyz[i],'is not odd')\n",
    "    else:\n",
    "        j = 0\n",
    "        myvalue = int(xyz[1])\n",
    "        np.insert(odds, j, myvalue)\n",
    "        print (xyz[i],'is odd')\n",
    "        j = j+1\n",
    "        \n",
    "print(odds)\n"
   ]
  },
  {
   "cell_type": "code",
   "execution_count": null,
   "metadata": {
    "collapsed": true
   },
   "outputs": [],
   "source": []
  }
 ],
 "metadata": {
  "anaconda-cloud": {},
  "kernelspec": {
   "display_name": "Python [default]",
   "language": "python",
   "name": "python3"
  },
  "language_info": {
   "codemirror_mode": {
    "name": "ipython",
    "version": 3
   },
   "file_extension": ".py",
   "mimetype": "text/x-python",
   "name": "python",
   "nbconvert_exporter": "python",
   "pygments_lexer": "ipython3",
   "version": "3.5.2"
  }
 },
 "nbformat": 4,
 "nbformat_minor": 0
}
